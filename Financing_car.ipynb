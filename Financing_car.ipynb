{
 "cells": [
  {
   "cell_type": "code",
   "execution_count": 2,
   "metadata": {},
   "outputs": [],
   "source": [
    "#import libraries\n",
    "%matplotlib inline\n",
    "import matplotlib.pyplot as plt\n",
    "import numpy as np\n",
    "import pandas as pd"
   ]
  },
  {
   "cell_type": "code",
   "execution_count": 3,
   "metadata": {},
   "outputs": [
    {
     "data": {
      "text/plain": [
       "662.64"
      ]
     },
     "execution_count": 3,
     "metadata": {},
     "output_type": "execute_result"
    }
   ],
   "source": [
    "# how are monthly payments (equated monthly installment) is calculated\n",
    "# calculating a montly payment (simplified)\n",
    "\n",
    "P = 31115 * (1.075)\n",
    "r = 0.0702 / 12\n",
    "n = 60\n",
    "numerator = (r *((1 + r)**(n)) )\n",
    "denominator = ((1 + r)**(n)) - 1\n",
    "emi = P * (numerator / denominator)\n",
    "\n",
    "np.round(emi,2)\n",
    "\n"
   ]
  },
  {
   "cell_type": "code",
   "execution_count": 4,
   "metadata": {},
   "outputs": [
    {
     "data": {
      "text/plain": [
       "687.23"
      ]
     },
     "execution_count": 4,
     "metadata": {},
     "output_type": "execute_result"
    }
   ],
   "source": [
    "#Calculating Monthly Pyment (with some fees included)\n",
    "\n",
    "# No,w in Los Angeles which has a total sales tax rate of 9.75%\n",
    "\n",
    "# Emissions testing fee: $50\n",
    "# Registration Fee: $200\n",
    "# Plate Transfer Fee: $65\n",
    "# California Documentation Fee: $80\n",
    "\n",
    "P = 31115 + (32615 * 0.0975) + 50 + 200 + 65 + 80\n",
    "r = 0.0702 / 12\n",
    "n = 60\n",
    "numerator = (r *((1 + r)**(n)) )\n",
    "denominator = ((1 + r)**(n)) - 1\n",
    "emi = P * (numerator/ denominator)\n",
    "np.round(emi,2)"
   ]
  },
  {
   "cell_type": "code",
   "execution_count": 5,
   "metadata": {},
   "outputs": [
    {
     "data": {
      "text/plain": [
       "'The Monthly Payment with fees included is 24.59 higher'"
      ]
     },
     "execution_count": 5,
     "metadata": {},
     "output_type": "execute_result"
    }
   ],
   "source": [
    "'The Monthly Payment with fees included is {} higher'.format(np.round(687.23 - 662.64,2))"
   ]
  },
  {
   "cell_type": "code",
   "execution_count": 6,
   "metadata": {},
   "outputs": [
    {
     "data": {
      "text/plain": [
       "\"\\nHere are the steps to do this\\n\\n1-) Divide your interest rate by the number of payments \\n(12) you'll make in the year (interest rates are expressed annually).\\n\\n\\n\""
      ]
     },
     "execution_count": 6,
     "metadata": {},
     "output_type": "execute_result"
    }
   ],
   "source": [
    "# How Interest Rates/APR Affects Monthly Payments\n",
    "\n",
    "# Calculate Total Interest Paid\n",
    "'''\n",
    "Here are the steps to do this\n",
    "\n",
    "1-) Divide your interest rate by the number of payments \n",
    "(12) you'll make in the year (interest rates are expressed annually).\n",
    "\n",
    "\n",
    "'''"
   ]
  },
  {
   "cell_type": "code",
   "execution_count": 7,
   "metadata": {},
   "outputs": [
    {
     "data": {
      "text/plain": [
       "202.93628062500002"
      ]
     },
     "execution_count": 7,
     "metadata": {},
     "output_type": "execute_result"
    }
   ],
   "source": [
    "# Calculate one month of interest\n",
    "P = 34689.9625\n",
    "r = 0.0702 / 12\n",
    "\n",
    "r * P"
   ]
  },
  {
   "cell_type": "code",
   "execution_count": 8,
   "metadata": {},
   "outputs": [
    {
     "data": {
      "text/plain": [
       "34205.6725"
      ]
     },
     "execution_count": 8,
     "metadata": {},
     "output_type": "execute_result"
    }
   ],
   "source": [
    "#Calculate new principal (after one payment)\n",
    "\n",
    "34689.9625 - (687.23 - 202.94)"
   ]
  },
  {
   "cell_type": "code",
   "execution_count": 9,
   "metadata": {},
   "outputs": [],
   "source": [
    "# Repeat steps 1 and 2 using the new principal until the principal reaches 0. You can see can example of this in the Python code below."
   ]
  },
  {
   "cell_type": "code",
   "execution_count": 10,
   "metadata": {},
   "outputs": [],
   "source": [
    "import numpy as np\n",
    "import pandas as pd\n",
    "\n",
    "term = 60\n",
    "P = 34205.6725\n",
    "\n",
    "\n",
    "def calc_interest(P,emi,interest_rate = 0.0702):\n",
    "    interest_paid = np.floor(((interest_rate/12)*P)*100)/100\n",
    "    principal_paid = np.round(emi-interest_paid, 2)\n",
    "    new_balance = np.round(P - principal_paid,2)\n",
    "    return(emi, interest_paid, principal_paid, new_balance)\n",
    "\n",
    "\n",
    "payment_list = []\n",
    "\n",
    "for n in range(1, term + 1):\n",
    "    emi,i_paid,p_paid,new_p = calc_interest(P, emi)\n",
    "    payment_list.append([n, P, emi, i_paid, p_paid, new_p])\n",
    "    P = np.round(new_p,2)\n",
    "    \n",
    "    \n",
    "    \n",
    "    "
   ]
  },
  {
   "cell_type": "code",
   "execution_count": 11,
   "metadata": {},
   "outputs": [],
   "source": [
    "c_names = ['Month','Starting Balance','Repayment','Interest Paid','Principal Paid','New Balance']\n",
    "payment_table = pd.DataFrame(payment_list, columns = c_names)"
   ]
  },
  {
   "cell_type": "code",
   "execution_count": 12,
   "metadata": {},
   "outputs": [
    {
     "data": {
      "text/html": [
       "<div>\n",
       "<style scoped>\n",
       "    .dataframe tbody tr th:only-of-type {\n",
       "        vertical-align: middle;\n",
       "    }\n",
       "\n",
       "    .dataframe tbody tr th {\n",
       "        vertical-align: top;\n",
       "    }\n",
       "\n",
       "    .dataframe thead th {\n",
       "        text-align: right;\n",
       "    }\n",
       "</style>\n",
       "<table border=\"1\" class=\"dataframe\">\n",
       "  <thead>\n",
       "    <tr style=\"text-align: right;\">\n",
       "      <th></th>\n",
       "      <th>Month</th>\n",
       "      <th>Starting Balance</th>\n",
       "      <th>Repayment</th>\n",
       "      <th>Interest Paid</th>\n",
       "      <th>Principal Paid</th>\n",
       "      <th>New Balance</th>\n",
       "    </tr>\n",
       "  </thead>\n",
       "  <tbody>\n",
       "    <tr>\n",
       "      <th>0</th>\n",
       "      <td>1</td>\n",
       "      <td>34205.6725</td>\n",
       "      <td>687.230218</td>\n",
       "      <td>200.10</td>\n",
       "      <td>487.13</td>\n",
       "      <td>33718.54</td>\n",
       "    </tr>\n",
       "    <tr>\n",
       "      <th>1</th>\n",
       "      <td>2</td>\n",
       "      <td>33718.5400</td>\n",
       "      <td>687.230218</td>\n",
       "      <td>197.25</td>\n",
       "      <td>489.98</td>\n",
       "      <td>33228.56</td>\n",
       "    </tr>\n",
       "    <tr>\n",
       "      <th>2</th>\n",
       "      <td>3</td>\n",
       "      <td>33228.5600</td>\n",
       "      <td>687.230218</td>\n",
       "      <td>194.38</td>\n",
       "      <td>492.85</td>\n",
       "      <td>32735.71</td>\n",
       "    </tr>\n",
       "    <tr>\n",
       "      <th>3</th>\n",
       "      <td>4</td>\n",
       "      <td>32735.7100</td>\n",
       "      <td>687.230218</td>\n",
       "      <td>191.50</td>\n",
       "      <td>495.73</td>\n",
       "      <td>32239.98</td>\n",
       "    </tr>\n",
       "    <tr>\n",
       "      <th>4</th>\n",
       "      <td>5</td>\n",
       "      <td>32239.9800</td>\n",
       "      <td>687.230218</td>\n",
       "      <td>188.60</td>\n",
       "      <td>498.63</td>\n",
       "      <td>31741.35</td>\n",
       "    </tr>\n",
       "    <tr>\n",
       "      <th>5</th>\n",
       "      <td>6</td>\n",
       "      <td>31741.3500</td>\n",
       "      <td>687.230218</td>\n",
       "      <td>185.68</td>\n",
       "      <td>501.55</td>\n",
       "      <td>31239.80</td>\n",
       "    </tr>\n",
       "    <tr>\n",
       "      <th>6</th>\n",
       "      <td>7</td>\n",
       "      <td>31239.8000</td>\n",
       "      <td>687.230218</td>\n",
       "      <td>182.75</td>\n",
       "      <td>504.48</td>\n",
       "      <td>30735.32</td>\n",
       "    </tr>\n",
       "    <tr>\n",
       "      <th>7</th>\n",
       "      <td>8</td>\n",
       "      <td>30735.3200</td>\n",
       "      <td>687.230218</td>\n",
       "      <td>179.80</td>\n",
       "      <td>507.43</td>\n",
       "      <td>30227.89</td>\n",
       "    </tr>\n",
       "    <tr>\n",
       "      <th>8</th>\n",
       "      <td>9</td>\n",
       "      <td>30227.8900</td>\n",
       "      <td>687.230218</td>\n",
       "      <td>176.83</td>\n",
       "      <td>510.40</td>\n",
       "      <td>29717.49</td>\n",
       "    </tr>\n",
       "    <tr>\n",
       "      <th>9</th>\n",
       "      <td>10</td>\n",
       "      <td>29717.4900</td>\n",
       "      <td>687.230218</td>\n",
       "      <td>173.84</td>\n",
       "      <td>513.39</td>\n",
       "      <td>29204.10</td>\n",
       "    </tr>\n",
       "    <tr>\n",
       "      <th>10</th>\n",
       "      <td>11</td>\n",
       "      <td>29204.1000</td>\n",
       "      <td>687.230218</td>\n",
       "      <td>170.84</td>\n",
       "      <td>516.39</td>\n",
       "      <td>28687.71</td>\n",
       "    </tr>\n",
       "    <tr>\n",
       "      <th>11</th>\n",
       "      <td>12</td>\n",
       "      <td>28687.7100</td>\n",
       "      <td>687.230218</td>\n",
       "      <td>167.82</td>\n",
       "      <td>519.41</td>\n",
       "      <td>28168.30</td>\n",
       "    </tr>\n",
       "    <tr>\n",
       "      <th>12</th>\n",
       "      <td>13</td>\n",
       "      <td>28168.3000</td>\n",
       "      <td>687.230218</td>\n",
       "      <td>164.78</td>\n",
       "      <td>522.45</td>\n",
       "      <td>27645.85</td>\n",
       "    </tr>\n",
       "    <tr>\n",
       "      <th>13</th>\n",
       "      <td>14</td>\n",
       "      <td>27645.8500</td>\n",
       "      <td>687.230218</td>\n",
       "      <td>161.72</td>\n",
       "      <td>525.51</td>\n",
       "      <td>27120.34</td>\n",
       "    </tr>\n",
       "    <tr>\n",
       "      <th>14</th>\n",
       "      <td>15</td>\n",
       "      <td>27120.3400</td>\n",
       "      <td>687.230218</td>\n",
       "      <td>158.65</td>\n",
       "      <td>528.58</td>\n",
       "      <td>26591.76</td>\n",
       "    </tr>\n",
       "    <tr>\n",
       "      <th>15</th>\n",
       "      <td>16</td>\n",
       "      <td>26591.7600</td>\n",
       "      <td>687.230218</td>\n",
       "      <td>155.56</td>\n",
       "      <td>531.67</td>\n",
       "      <td>26060.09</td>\n",
       "    </tr>\n",
       "    <tr>\n",
       "      <th>16</th>\n",
       "      <td>17</td>\n",
       "      <td>26060.0900</td>\n",
       "      <td>687.230218</td>\n",
       "      <td>152.45</td>\n",
       "      <td>534.78</td>\n",
       "      <td>25525.31</td>\n",
       "    </tr>\n",
       "    <tr>\n",
       "      <th>17</th>\n",
       "      <td>18</td>\n",
       "      <td>25525.3100</td>\n",
       "      <td>687.230218</td>\n",
       "      <td>149.32</td>\n",
       "      <td>537.91</td>\n",
       "      <td>24987.40</td>\n",
       "    </tr>\n",
       "    <tr>\n",
       "      <th>18</th>\n",
       "      <td>19</td>\n",
       "      <td>24987.4000</td>\n",
       "      <td>687.230218</td>\n",
       "      <td>146.17</td>\n",
       "      <td>541.06</td>\n",
       "      <td>24446.34</td>\n",
       "    </tr>\n",
       "    <tr>\n",
       "      <th>19</th>\n",
       "      <td>20</td>\n",
       "      <td>24446.3400</td>\n",
       "      <td>687.230218</td>\n",
       "      <td>143.01</td>\n",
       "      <td>544.22</td>\n",
       "      <td>23902.12</td>\n",
       "    </tr>\n",
       "  </tbody>\n",
       "</table>\n",
       "</div>"
      ],
      "text/plain": [
       "    Month  Starting Balance   Repayment  Interest Paid  Principal Paid  \\\n",
       "0       1        34205.6725  687.230218         200.10          487.13   \n",
       "1       2        33718.5400  687.230218         197.25          489.98   \n",
       "2       3        33228.5600  687.230218         194.38          492.85   \n",
       "3       4        32735.7100  687.230218         191.50          495.73   \n",
       "4       5        32239.9800  687.230218         188.60          498.63   \n",
       "5       6        31741.3500  687.230218         185.68          501.55   \n",
       "6       7        31239.8000  687.230218         182.75          504.48   \n",
       "7       8        30735.3200  687.230218         179.80          507.43   \n",
       "8       9        30227.8900  687.230218         176.83          510.40   \n",
       "9      10        29717.4900  687.230218         173.84          513.39   \n",
       "10     11        29204.1000  687.230218         170.84          516.39   \n",
       "11     12        28687.7100  687.230218         167.82          519.41   \n",
       "12     13        28168.3000  687.230218         164.78          522.45   \n",
       "13     14        27645.8500  687.230218         161.72          525.51   \n",
       "14     15        27120.3400  687.230218         158.65          528.58   \n",
       "15     16        26591.7600  687.230218         155.56          531.67   \n",
       "16     17        26060.0900  687.230218         152.45          534.78   \n",
       "17     18        25525.3100  687.230218         149.32          537.91   \n",
       "18     19        24987.4000  687.230218         146.17          541.06   \n",
       "19     20        24446.3400  687.230218         143.01          544.22   \n",
       "\n",
       "    New Balance  \n",
       "0      33718.54  \n",
       "1      33228.56  \n",
       "2      32735.71  \n",
       "3      32239.98  \n",
       "4      31741.35  \n",
       "5      31239.80  \n",
       "6      30735.32  \n",
       "7      30227.89  \n",
       "8      29717.49  \n",
       "9      29204.10  \n",
       "10     28687.71  \n",
       "11     28168.30  \n",
       "12     27645.85  \n",
       "13     27120.34  \n",
       "14     26591.76  \n",
       "15     26060.09  \n",
       "16     25525.31  \n",
       "17     24987.40  \n",
       "18     24446.34  \n",
       "19     23902.12  "
      ]
     },
     "execution_count": 12,
     "metadata": {},
     "output_type": "execute_result"
    }
   ],
   "source": [
    "payment_table.head(20)"
   ]
  },
  {
   "cell_type": "code",
   "execution_count": 13,
   "metadata": {},
   "outputs": [
    {
     "data": {
      "text/plain": [
       "6340.57"
      ]
     },
     "execution_count": 13,
     "metadata": {},
     "output_type": "execute_result"
    }
   ],
   "source": [
    "np.round(payment_table['Interest Paid'].sum(), 2)"
   ]
  },
  {
   "cell_type": "code",
   "execution_count": 14,
   "metadata": {},
   "outputs": [
    {
     "data": {
      "image/png": "[encoded data removed]",
      "text/plain": [
       "<Figure size 720x360 with 1 Axes>"
      ]
     },
     "metadata": {
      "needs_background": "light"
     },
     "output_type": "display_data"
    }
   ],
   "source": [
    "# Loan and Principal Plot\n",
    "\n",
    "fig, axes = plt.subplots(nrows = 1, ncols = 1, figsize=(10, 5) )\n",
    "\n",
    "axes.plot(payment_table['Month'], payment_table['Principal Paid'], c = 'b', label = 'Principal')\n",
    "axes.plot(payment_table['Month'], payment_table['Interest Paid'], c = 'k', label = 'Interest')\n",
    "\n",
    "axes.set_xlim((1, 60))\n",
    "axes.set_xticks([1, 10, 20, 30, 40, 50, 60])\n",
    "\n",
    "axes.set_ylim((0, 700));\n",
    "\n",
    "axes.set_ylabel('Dollars', fontsize = 22);\n",
    "axes.set_xlabel('Month', fontsize = 22);\n",
    "plt.xticks(fontsize = 20)\n",
    "plt.yticks(fontsize = 20)\n",
    "\n",
    "axes.set_title('Interest and Principal Paid Each Month', fontsize = 24)\n",
    "\n",
    "plt.legend(bbox_to_anchor=(1.02,0), loc=\"lower left\", borderaxespad=0, fontsize = 20)\n",
    "plt.tight_layout()\n",
    "plt.grid(axis = 'both')\n"
   ]
  },
  {
   "cell_type": "code",
   "execution_count": null,
   "metadata": {},
   "outputs": [],
   "source": []
  },
  {
   "cell_type": "code",
   "execution_count": null,
   "metadata": {},
   "outputs": [],
   "source": []
  }
 ],
 "metadata": {
  "kernelspec": {
   "display_name": "Python 3",
   "language": "python",
   "name": "python3"
  },
  "language_info": {
   "codemirror_mode": {
    "name": "ipython",
    "version": 3
   },
   "file_extension": ".py",
   "mimetype": "text/x-python",
   "name": "python",
   "nbconvert_exporter": "python",
   "pygments_lexer": "ipython3",
   "version": "3.7.3"
  }
 },
 "nbformat": 4,
 "nbformat_minor": 2
}
